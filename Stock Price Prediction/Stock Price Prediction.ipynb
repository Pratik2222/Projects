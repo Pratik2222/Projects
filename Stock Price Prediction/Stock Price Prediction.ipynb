{
 "cells": [
  {
   "cell_type": "code",
   "execution_count": 1,
   "id": "e7b4572c",
   "metadata": {},
   "outputs": [],
   "source": [
    "import numpy as np\n",
    "import pandas as pd\n",
    "from sklearn import preprocessing\n",
    "from sklearn.model_selection import train_test_split\n",
    "from sklearn.linear_model import LinearRegression"
   ]
  },
  {
   "cell_type": "code",
   "execution_count": 2,
   "id": "df539d87",
   "metadata": {},
   "outputs": [],
   "source": [
    "df = pd.read_csv('GOOG.csv')"
   ]
  },
  {
   "cell_type": "code",
   "execution_count": 3,
   "id": "343b9c2a",
   "metadata": {},
   "outputs": [
    {
     "data": {
      "text/html": [
       "<div>\n",
       "<style scoped>\n",
       "    .dataframe tbody tr th:only-of-type {\n",
       "        vertical-align: middle;\n",
       "    }\n",
       "\n",
       "    .dataframe tbody tr th {\n",
       "        vertical-align: top;\n",
       "    }\n",
       "\n",
       "    .dataframe thead th {\n",
       "        text-align: right;\n",
       "    }\n",
       "</style>\n",
       "<table border=\"1\" class=\"dataframe\">\n",
       "  <thead>\n",
       "    <tr style=\"text-align: right;\">\n",
       "      <th></th>\n",
       "      <th>Date</th>\n",
       "      <th>Open</th>\n",
       "      <th>High</th>\n",
       "      <th>Low</th>\n",
       "      <th>Close</th>\n",
       "      <th>Adj Close</th>\n",
       "      <th>Volume</th>\n",
       "    </tr>\n",
       "  </thead>\n",
       "  <tbody>\n",
       "    <tr>\n",
       "      <th>0</th>\n",
       "      <td>2021-07-06</td>\n",
       "      <td>2588.989990</td>\n",
       "      <td>2597.689941</td>\n",
       "      <td>2568.179932</td>\n",
       "      <td>2595.419922</td>\n",
       "      <td>2595.419922</td>\n",
       "      <td>1067500</td>\n",
       "    </tr>\n",
       "    <tr>\n",
       "      <th>1</th>\n",
       "      <td>2021-07-07</td>\n",
       "      <td>2606.820068</td>\n",
       "      <td>2612.798096</td>\n",
       "      <td>2595.199951</td>\n",
       "      <td>2601.550049</td>\n",
       "      <td>2601.550049</td>\n",
       "      <td>834000</td>\n",
       "    </tr>\n",
       "    <tr>\n",
       "      <th>2</th>\n",
       "      <td>2021-07-08</td>\n",
       "      <td>2565.000000</td>\n",
       "      <td>2600.649902</td>\n",
       "      <td>2560.800049</td>\n",
       "      <td>2583.540039</td>\n",
       "      <td>2583.540039</td>\n",
       "      <td>989000</td>\n",
       "    </tr>\n",
       "    <tr>\n",
       "      <th>3</th>\n",
       "      <td>2021-07-09</td>\n",
       "      <td>2578.889893</td>\n",
       "      <td>2596.989990</td>\n",
       "      <td>2578.870117</td>\n",
       "      <td>2591.489990</td>\n",
       "      <td>2591.489990</td>\n",
       "      <td>755300</td>\n",
       "    </tr>\n",
       "    <tr>\n",
       "      <th>4</th>\n",
       "      <td>2021-07-12</td>\n",
       "      <td>2596.669922</td>\n",
       "      <td>2615.399902</td>\n",
       "      <td>2592.000000</td>\n",
       "      <td>2611.280029</td>\n",
       "      <td>2611.280029</td>\n",
       "      <td>847200</td>\n",
       "    </tr>\n",
       "    <tr>\n",
       "      <th>5</th>\n",
       "      <td>2021-07-13</td>\n",
       "      <td>2617.629883</td>\n",
       "      <td>2640.840088</td>\n",
       "      <td>2612.739990</td>\n",
       "      <td>2619.889893</td>\n",
       "      <td>2619.889893</td>\n",
       "      <td>830900</td>\n",
       "    </tr>\n",
       "    <tr>\n",
       "      <th>6</th>\n",
       "      <td>2021-07-14</td>\n",
       "      <td>2638.030029</td>\n",
       "      <td>2659.919922</td>\n",
       "      <td>2637.959961</td>\n",
       "      <td>2641.649902</td>\n",
       "      <td>2641.649902</td>\n",
       "      <td>895600</td>\n",
       "    </tr>\n",
       "    <tr>\n",
       "      <th>7</th>\n",
       "      <td>2021-07-15</td>\n",
       "      <td>2650.000000</td>\n",
       "      <td>2651.899902</td>\n",
       "      <td>2611.959961</td>\n",
       "      <td>2625.330078</td>\n",
       "      <td>2625.330078</td>\n",
       "      <td>829300</td>\n",
       "    </tr>\n",
       "    <tr>\n",
       "      <th>8</th>\n",
       "      <td>2021-07-16</td>\n",
       "      <td>2632.820068</td>\n",
       "      <td>2643.659912</td>\n",
       "      <td>2616.429932</td>\n",
       "      <td>2636.909912</td>\n",
       "      <td>2636.909912</td>\n",
       "      <td>742800</td>\n",
       "    </tr>\n",
       "    <tr>\n",
       "      <th>9</th>\n",
       "      <td>2021-07-19</td>\n",
       "      <td>2623.110107</td>\n",
       "      <td>2624.939941</td>\n",
       "      <td>2570.739990</td>\n",
       "      <td>2585.080078</td>\n",
       "      <td>2585.080078</td>\n",
       "      <td>1285500</td>\n",
       "    </tr>\n",
       "  </tbody>\n",
       "</table>\n",
       "</div>"
      ],
      "text/plain": [
       "         Date         Open         High          Low        Close  \\\n",
       "0  2021-07-06  2588.989990  2597.689941  2568.179932  2595.419922   \n",
       "1  2021-07-07  2606.820068  2612.798096  2595.199951  2601.550049   \n",
       "2  2021-07-08  2565.000000  2600.649902  2560.800049  2583.540039   \n",
       "3  2021-07-09  2578.889893  2596.989990  2578.870117  2591.489990   \n",
       "4  2021-07-12  2596.669922  2615.399902  2592.000000  2611.280029   \n",
       "5  2021-07-13  2617.629883  2640.840088  2612.739990  2619.889893   \n",
       "6  2021-07-14  2638.030029  2659.919922  2637.959961  2641.649902   \n",
       "7  2021-07-15  2650.000000  2651.899902  2611.959961  2625.330078   \n",
       "8  2021-07-16  2632.820068  2643.659912  2616.429932  2636.909912   \n",
       "9  2021-07-19  2623.110107  2624.939941  2570.739990  2585.080078   \n",
       "\n",
       "     Adj Close   Volume  \n",
       "0  2595.419922  1067500  \n",
       "1  2601.550049   834000  \n",
       "2  2583.540039   989000  \n",
       "3  2591.489990   755300  \n",
       "4  2611.280029   847200  \n",
       "5  2619.889893   830900  \n",
       "6  2641.649902   895600  \n",
       "7  2625.330078   829300  \n",
       "8  2636.909912   742800  \n",
       "9  2585.080078  1285500  "
      ]
     },
     "execution_count": 3,
     "metadata": {},
     "output_type": "execute_result"
    }
   ],
   "source": [
    "df.head(10)"
   ]
  },
  {
   "cell_type": "code",
   "execution_count": 4,
   "id": "6b7ec4f1",
   "metadata": {},
   "outputs": [],
   "source": [
    "forecast_col = 'Close'\n",
    "forecast_out = 5\n",
    "test_size = 0.2"
   ]
  },
  {
   "cell_type": "code",
   "execution_count": 5,
   "id": "97c0a295",
   "metadata": {},
   "outputs": [],
   "source": [
    "def prepare_data(df,forecast_col,forecast_out,test_size):\n",
    "    label = df[forecast_col].shift(-forecast_out) #creating new column called label with the last 5 rows are nan\n",
    "    print(label)\n",
    "    X = np.array(df[[forecast_col]]) #creating the feature array\n",
    "    X = preprocessing.scale(X) #processing the feature array\n",
    "    X_lately = X[-forecast_out:] #creating the column i want to use later in the predicting method\n",
    "    X = X[:-forecast_out] # X that will contain the training and testing\n",
    "    label.dropna(inplace=True) #dropping na values\n",
    "    y = np.array(label)  # assigning Y\n",
    "    X_train, X_test, Y_train, Y_test = train_test_split(X, y, test_size=test_size, random_state=0) #cross validation\n",
    "\n",
    "    response = [X_train,X_test , Y_train, Y_test , X_lately]\n",
    "    return response"
   ]
  },
  {
   "cell_type": "code",
   "execution_count": 6,
   "id": "dc913e3f",
   "metadata": {},
   "outputs": [
    {
     "name": "stdout",
     "output_type": "stream",
     "text": [
      "0      2619.889893\n",
      "1      2641.649902\n",
      "2      2625.330078\n",
      "3      2636.909912\n",
      "4      2585.080078\n",
      "          ...     \n",
      "246            NaN\n",
      "247            NaN\n",
      "248            NaN\n",
      "249            NaN\n",
      "250            NaN\n",
      "Name: Close, Length: 251, dtype: float64\n"
     ]
    },
    {
     "data": {
      "text/plain": [
       "LinearRegression()"
      ]
     },
     "execution_count": 6,
     "metadata": {},
     "output_type": "execute_result"
    }
   ],
   "source": [
    "X_train, X_test, Y_train, Y_test , X_lately =prepare_data(df,forecast_col,forecast_out,test_size); #calling the method were the cross validation and data preperation is in\n",
    "learner = LinearRegression() #initializing linear regression model\n",
    "\n",
    "learner.fit(X_train,Y_train) #training the linear regression model"
   ]
  },
  {
   "cell_type": "code",
   "execution_count": 7,
   "id": "03765071",
   "metadata": {},
   "outputs": [
    {
     "name": "stdout",
     "output_type": "stream",
     "text": [
      "{'test_score': 0.7535985321245788, 'forecast_set': array([2352.70996748, 2276.71292803, 2270.80346172, 2216.69949925,\n",
      "       2211.23109613])}\n"
     ]
    }
   ],
   "source": [
    "#Let’s predict the output and have a look at the prices of the stock prices:\n",
    "score=learner.score(X_test,Y_test)#testing the linear regression model\n",
    "forecast= learner.predict(X_lately) #set that will contain the forecasted data\n",
    "response={}#creting json object\n",
    "response['test_score']=score\n",
    "response['forecast_set']=forecast\n",
    "\n",
    "print(response)"
   ]
  }
 ],
 "metadata": {
  "kernelspec": {
   "display_name": "Python 3 (ipykernel)",
   "language": "python",
   "name": "python3"
  },
  "language_info": {
   "codemirror_mode": {
    "name": "ipython",
    "version": 3
   },
   "file_extension": ".py",
   "mimetype": "text/x-python",
   "name": "python",
   "nbconvert_exporter": "python",
   "pygments_lexer": "ipython3",
   "version": "3.9.12"
  },
  "latex_envs": {
   "LaTeX_envs_menu_present": true,
   "autoclose": false,
   "autocomplete": true,
   "bibliofile": "biblio.bib",
   "cite_by": "apalike",
   "current_citInitial": 1,
   "eqLabelWithNumbers": true,
   "eqNumInitial": 1,
   "hotkeys": {
    "equation": "Ctrl-E",
    "itemize": "Ctrl-I"
   },
   "labels_anchors": false,
   "latex_user_defs": false,
   "report_style_numbering": false,
   "user_envs_cfg": false
  }
 },
 "nbformat": 4,
 "nbformat_minor": 5
}
