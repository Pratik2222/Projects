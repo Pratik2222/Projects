{
 "cells": [
  {
   "cell_type": "code",
   "execution_count": 1,
   "metadata": {
    "_cell_guid": "e137a255-49bf-837d-8511-a49e6c84aef7"
   },
   "outputs": [
    {
     "name": "stderr",
     "output_type": "stream",
     "text": [
      "/opt/conda/lib/python3.6/site-packages/sklearn/cross_validation.py:43: DeprecationWarning: This module was deprecated in version 0.18 in favor of the model_selection module into which all the refactored classes and functions are moved. Also note that the interface of the new CV iterators are different from that of this module. This module will be removed in 0.20.\n",
      "  \"This module will be removed in 0.20.\", DeprecationWarning)\n"
     ]
    }
   ],
   "source": [
    "import numpy as np\n",
    "import pandas as pd\n",
    "import matplotlib.pyplot as plt\n",
    "import xgboost\n",
    "import math\n",
    "from __future__ import division\n",
    "from scipy.stats import pearsonr\n",
    "from sklearn.linear_model import LinearRegression\n",
    "from sklearn import cross_validation, tree, linear_model\n",
    "from sklearn.model_selection import train_test_split\n",
    "from sklearn.metrics import explained_variance_score"
   ]
  },
  {
   "cell_type": "markdown",
   "metadata": {
    "_cell_guid": "fae38191-489d-ba9c-858c-f0b09d028f13"
   },
   "source": [
    "# 1. Exploratory Data Analysis"
   ]
  },
  {
   "cell_type": "code",
   "execution_count": 2,
   "metadata": {
    "_cell_guid": "fe625774-6184-5cb2-819c-ff840e08e392"
   },
   "outputs": [],
   "source": [
    "# Read the data into a data frame\n",
    "data = pd.read_csv('../input/kc_house_data.csv')"
   ]
  },
  {
   "cell_type": "code",
   "execution_count": 3,
   "metadata": {
    "_cell_guid": "f9afd217-a50b-9f37-755d-072af53522ca"
   },
   "outputs": [
    {
     "name": "stdout",
     "output_type": "stream",
     "text": [
      "21613\n",
      "21\n",
      "[dtype('int64') dtype('O') dtype('float64')]\n"
     ]
    }
   ],
   "source": [
    "# Check the number of data points in the data set\n",
    "print(len(data))\n",
    "# Check the number of features in the data set\n",
    "print(len(data.columns))\n",
    "# Check the data types\n",
    "print(data.dtypes.unique())"
   ]
  },
  {
   "cell_type": "markdown",
   "metadata": {
    "_cell_guid": "c2021183-8a42-5787-bff7-da3181c08fb7"
   },
   "source": [
    "- Since there are Python objects in the data set, we may have some categorical features. Let's check them. "
   ]
  },
  {
   "cell_type": "code",
   "execution_count": 4,
   "metadata": {
    "_cell_guid": "608870cd-16d1-0f6f-9594-603c455da8a5"
   },
   "outputs": [
    {
     "data": {
      "text/plain": [
       "['date']"
      ]
     },
     "execution_count": 4,
     "metadata": {},
     "output_type": "execute_result"
    }
   ],
   "source": [
    "data.select_dtypes(include=['O']).columns.tolist()"
   ]
  },
  {
   "cell_type": "markdown",
   "metadata": {
    "_cell_guid": "a8199e20-8553-da22-4b75-99f6fbc60523"
   },
   "source": [
    "- We only have the date column which is a timestamp that we will ignore."
   ]
  },
  {
   "cell_type": "code",
   "execution_count": 5,
   "metadata": {
    "_cell_guid": "c9d01805-192d-06f0-5e0a-aff8f7bb75bf"
   },
   "outputs": [
    {
     "name": "stdout",
     "output_type": "stream",
     "text": [
      "0  /  21\n",
      "0  /  21613\n"
     ]
    }
   ],
   "source": [
    "# Check any number of columns with NaN\n",
    "print(data.isnull().any().sum(), ' / ', len(data.columns))\n",
    "# Check any number of data points with NaN\n",
    "print(data.isnull().any(axis=1).sum(), ' / ', len(data))"
   ]
  },
  {
   "cell_type": "markdown",
   "metadata": {
    "_cell_guid": "619e716e-efcf-3c50-3b5c-5b8826967619"
   },
   "source": [
    "- The data set is pretty much structured and doesn't have any NaN values. So we can jump into finding correlations between the features and the target variable"
   ]
  },
  {
   "cell_type": "markdown",
   "metadata": {
    "_cell_guid": "c041ee9f-937b-5df2-100c-4ef6d4f39c3d"
   },
   "source": [
    "# 2. Correlations between features and target"
   ]
  },
  {
   "cell_type": "code",
   "execution_count": 6,
   "metadata": {
    "_cell_guid": "71b41bea-27dc-ff5f-d2ba-caa214ed661a"
   },
   "outputs": [],
   "source": [
    "features = data.iloc[:,3:].columns.tolist()\n",
    "target = data.iloc[:,2].name"
   ]
  },
  {
   "cell_type": "code",
   "execution_count": 7,
   "metadata": {
    "_cell_guid": "ccdb0159-6285-29e1-7ecc-fdd34442519c"
   },
   "outputs": [],
   "source": [
    "correlations = {}\n",
    "for f in features:\n",
    "    data_temp = data[[f,target]]\n",
    "    x1 = data_temp[f].values\n",
    "    x2 = data_temp[target].values\n",
    "    key = f + ' vs ' + target\n",
    "    correlations[key] = pearsonr(x1,x2)[0]"
   ]
  },
  {
   "cell_type": "code",
   "execution_count": 8,
   "metadata": {
    "_cell_guid": "a5861b15-d8b3-76bf-9903-31995a68cd41"
   },
   "outputs": [
    {
     "data": {
      "text/html": [
       "<div>\n",
       "<table border=\"1\" class=\"dataframe\">\n",
       "  <thead>\n",
       "    <tr style=\"text-align: right;\">\n",
       "      <th></th>\n",
       "      <th>Value</th>\n",
       "    </tr>\n",
       "  </thead>\n",
       "  <tbody>\n",
       "    <tr>\n",
       "      <th>sqft_living vs price</th>\n",
       "      <td>0.702035</td>\n",
       "    </tr>\n",
       "    <tr>\n",
       "      <th>grade vs price</th>\n",
       "      <td>0.667434</td>\n",
       "    </tr>\n",
       "    <tr>\n",
       "      <th>sqft_above vs price</th>\n",
       "      <td>0.605567</td>\n",
       "    </tr>\n",
       "    <tr>\n",
       "      <th>sqft_living15 vs price</th>\n",
       "      <td>0.585379</td>\n",
       "    </tr>\n",
       "    <tr>\n",
       "      <th>bathrooms vs price</th>\n",
       "      <td>0.525138</td>\n",
       "    </tr>\n",
       "    <tr>\n",
       "      <th>view vs price</th>\n",
       "      <td>0.397293</td>\n",
       "    </tr>\n",
       "    <tr>\n",
       "      <th>sqft_basement vs price</th>\n",
       "      <td>0.323816</td>\n",
       "    </tr>\n",
       "    <tr>\n",
       "      <th>bedrooms vs price</th>\n",
       "      <td>0.308350</td>\n",
       "    </tr>\n",
       "    <tr>\n",
       "      <th>lat vs price</th>\n",
       "      <td>0.307003</td>\n",
       "    </tr>\n",
       "    <tr>\n",
       "      <th>waterfront vs price</th>\n",
       "      <td>0.266369</td>\n",
       "    </tr>\n",
       "    <tr>\n",
       "      <th>floors vs price</th>\n",
       "      <td>0.256794</td>\n",
       "    </tr>\n",
       "    <tr>\n",
       "      <th>yr_renovated vs price</th>\n",
       "      <td>0.126434</td>\n",
       "    </tr>\n",
       "    <tr>\n",
       "      <th>sqft_lot vs price</th>\n",
       "      <td>0.089661</td>\n",
       "    </tr>\n",
       "    <tr>\n",
       "      <th>sqft_lot15 vs price</th>\n",
       "      <td>0.082447</td>\n",
       "    </tr>\n",
       "    <tr>\n",
       "      <th>yr_built vs price</th>\n",
       "      <td>0.054012</td>\n",
       "    </tr>\n",
       "    <tr>\n",
       "      <th>zipcode vs price</th>\n",
       "      <td>-0.053203</td>\n",
       "    </tr>\n",
       "    <tr>\n",
       "      <th>condition vs price</th>\n",
       "      <td>0.036362</td>\n",
       "    </tr>\n",
       "    <tr>\n",
       "      <th>long vs price</th>\n",
       "      <td>0.021626</td>\n",
       "    </tr>\n",
       "  </tbody>\n",
       "</table>\n",
       "</div>"
      ],
      "text/plain": [
       "                           Value\n",
       "sqft_living vs price    0.702035\n",
       "grade vs price          0.667434\n",
       "sqft_above vs price     0.605567\n",
       "sqft_living15 vs price  0.585379\n",
       "bathrooms vs price      0.525138\n",
       "view vs price           0.397293\n",
       "sqft_basement vs price  0.323816\n",
       "bedrooms vs price       0.308350\n",
       "lat vs price            0.307003\n",
       "waterfront vs price     0.266369\n",
       "floors vs price         0.256794\n",
       "yr_renovated vs price   0.126434\n",
       "sqft_lot vs price       0.089661\n",
       "sqft_lot15 vs price     0.082447\n",
       "yr_built vs price       0.054012\n",
       "zipcode vs price       -0.053203\n",
       "condition vs price      0.036362\n",
       "long vs price           0.021626"
      ]
     },
     "execution_count": 8,
     "metadata": {},
     "output_type": "execute_result"
    }
   ],
   "source": [
    "data_correlations = pd.DataFrame(correlations, index=['Value']).T\n",
    "data_correlations.loc[data_correlations['Value'].abs().sort_values(ascending=False).index]"
   ]
  },
  {
   "cell_type": "markdown",
   "metadata": {
    "_cell_guid": "df828a29-f738-a88c-996f-b14bfea07e3b"
   },
   "source": [
    "- We can see that the top 5 features are the most correlated features with the target \"price\"\n",
    "- Let's plot the best 2 regressors jointly"
   ]
  },
  {
   "cell_type": "code",
   "execution_count": 9,
   "metadata": {
    "_cell_guid": "6c128db4-0179-cce8-44ec-d2ad8b300e1a"
   },
   "outputs": [],
   "source": [
    "y = data.loc[:,['sqft_living','grade',target]].sort_values(target, ascending=True).values\n",
    "x = np.arange(y.shape[0])"
   ]
  },
  {
   "cell_type": "code",
   "execution_count": 10,
   "metadata": {
    "_cell_guid": "d01ee728-764b-f67d-3293-73fbc673c159"
   },
   "outputs": [
    {
     "data": {
      "image/png": "[encoded data removed]",
      "text/plain": [
       "<matplotlib.figure.Figure at 0x7fd7504d4b00>"
      ]
     },
     "metadata": {},
     "output_type": "display_data"
    }
   ],
   "source": [
    "%matplotlib inline\n",
    "plt.subplot(3,1,1)\n",
    "plt.plot(x,y[:,0])\n",
    "plt.title('Sqft and Grade vs Price')\n",
    "plt.ylabel('Sqft')\n",
    "\n",
    "plt.subplot(3,1,2)\n",
    "plt.plot(x,y[:,1])\n",
    "plt.ylabel('Grade')\n",
    "\n",
    "plt.subplot(3,1,3)\n",
    "plt.plot(x,y[:,2],'r')\n",
    "plt.ylabel(\"Price\")\n",
    "\n",
    "plt.show()"
   ]
  },
  {
   "cell_type": "markdown",
   "metadata": {
    "_cell_guid": "bb08193b-d54e-a4b6-00f9-ccd1b618b7af"
   },
   "source": [
    "# 3. Predicting House Sales Prices"
   ]
  },
  {
   "cell_type": "code",
   "execution_count": 11,
   "metadata": {
    "_cell_guid": "6b5f6b66-bb8c-1142-84dc-a5b5542f6f6f"
   },
   "outputs": [],
   "source": [
    "# Train a simple linear regression model\n",
    "regr = linear_model.LinearRegression()\n",
    "new_data = data[['sqft_living','grade', 'sqft_above', 'sqft_living15','bathrooms','view','sqft_basement','lat','waterfront','yr_built','bedrooms']]"
   ]
  },
  {
   "cell_type": "code",
   "execution_count": 12,
   "metadata": {
    "_cell_guid": "b696daf9-ce83-a581-c98f-13631b496108"
   },
   "outputs": [],
   "source": [
    "X = new_data.values\n",
    "y = data.price.values"
   ]
  },
  {
   "cell_type": "code",
   "execution_count": 13,
   "metadata": {
    "_cell_guid": "29fca21d-880e-6eb3-557d-b45035c32d26"
   },
   "outputs": [],
   "source": [
    "X_train, X_test, y_train, y_test = cross_validation.train_test_split(X, y ,test_size=0.2)"
   ]
  },
  {
   "cell_type": "code",
   "execution_count": 14,
   "metadata": {
    "_cell_guid": "51cc9733-ce21-0a71-2bb4-531fb4f79213"
   },
   "outputs": [
    {
     "name": "stdout",
     "output_type": "stream",
     "text": [
      "[  841418.12898114   631054.99036266   238748.92158542 ...,\n",
      "  1152295.02572439   357086.73965818   451499.07818777]\n"
     ]
    }
   ],
   "source": [
    "regr.fit(X_train, y_train)\n",
    "print(regr.predict(X_test))"
   ]
  },
  {
   "cell_type": "code",
   "execution_count": 15,
   "metadata": {
    "_cell_guid": "8281a2cd-9c2b-27aa-554d-9a65f057bcd5"
   },
   "outputs": [
    {
     "data": {
      "text/plain": [
       "0.70137060012474084"
      ]
     },
     "execution_count": 15,
     "metadata": {},
     "output_type": "execute_result"
    }
   ],
   "source": [
    "regr.score(X_test,y_test)"
   ]
  },
  {
   "cell_type": "markdown",
   "metadata": {
    "_cell_guid": "8a1302a7-def8-1c23-fbcb-cda1bfd61dac"
   },
   "source": [
    "- Prediction score is about 70 which is not really optimal"
   ]
  },
  {
   "cell_type": "code",
   "execution_count": 16,
   "metadata": {
    "_cell_guid": "e0e7cbaf-13a0-7d88-519d-a7857f2c4f36"
   },
   "outputs": [
    {
     "name": "stdout",
     "output_type": "stream",
     "text": [
      "RMSE: 193615.08\n"
     ]
    }
   ],
   "source": [
    "# Calculate the Root Mean Squared Error\n",
    "print(\"RMSE: %.2f\"\n",
    "      % math.sqrt(np.mean((regr.predict(X_test) - y_test) ** 2)))"
   ]
  },
  {
   "cell_type": "code",
   "execution_count": 17,
   "metadata": {
    "_cell_guid": "22c9f865-513a-3a37-9d62-bbd2c120d323"
   },
   "outputs": [],
   "source": [
    "# Let's try XGboost algorithm to see if we can get better results\n",
    "xgb = xgboost.XGBRegressor(n_estimators=100, learning_rate=0.08, gamma=0, subsample=0.75,\n",
    "                           colsample_bytree=1, max_depth=7)"
   ]
  },
  {
   "cell_type": "code",
   "execution_count": 18,
   "metadata": {
    "_cell_guid": "2a5002e9-d390-333e-bb38-0effd4972e20"
   },
   "outputs": [
    {
     "data": {
      "text/plain": [
       "XGBRegressor(base_score=0.5, colsample_bylevel=1, colsample_bytree=1, gamma=0,\n",
       "       learning_rate=0.08, max_delta_step=0, max_depth=7,\n",
       "       min_child_weight=1, missing=None, n_estimators=100, nthread=-1,\n",
       "       objective='reg:linear', reg_alpha=0, reg_lambda=1,\n",
       "       scale_pos_weight=1, seed=0, silent=True, subsample=0.75)"
      ]
     },
     "execution_count": 18,
     "metadata": {},
     "output_type": "execute_result"
    }
   ],
   "source": [
    "traindf, testdf = train_test_split(X_train, test_size = 0.3)\n",
    "xgb.fit(X_train,y_train)"
   ]
  },
  {
   "cell_type": "code",
   "execution_count": 19,
   "metadata": {
    "_cell_guid": "96662a3d-4751-82dc-ba4a-05862a9f03e6"
   },
   "outputs": [
    {
     "name": "stdout",
     "output_type": "stream",
     "text": [
      "0.813721038305\n"
     ]
    }
   ],
   "source": [
    "predictions = xgb.predict(X_test)\n",
    "print(explained_variance_score(predictions,y_test))"
   ]
  },
  {
   "cell_type": "markdown",
   "metadata": {
    "_cell_guid": "8865579e-b2e5-edef-5354-1613a414f7ec"
   },
   "source": [
    "- Our accuracy is changing between 79%-84%. I think it is close to an optimal solution."
   ]
  },
  {
   "cell_type": "code",
   "execution_count": 20,
   "metadata": {
    "_cell_guid": "54f7eb10-c65a-17b4-7a13-d65d78907ed4"
   },
   "outputs": [],
   "source": []
  }
 ],
 "metadata": {
  "_change_revision": 2,
  "_is_fork": false,
  "kernelspec": {
   "display_name": "Python 3 (ipykernel)",
   "language": "python",
   "name": "python3"
  },
  "language_info": {
   "codemirror_mode": {
    "name": "ipython",
    "version": 3
   },
   "file_extension": ".py",
   "mimetype": "text/x-python",
   "name": "python",
   "nbconvert_exporter": "python",
   "pygments_lexer": "ipython3",
   "version": "3.9.12"
  },
  "latex_envs": {
   "LaTeX_envs_menu_present": true,
   "autoclose": false,
   "autocomplete": true,
   "bibliofile": "biblio.bib",
   "cite_by": "apalike",
   "current_citInitial": 1,
   "eqLabelWithNumbers": true,
   "eqNumInitial": 1,
   "hotkeys": {
    "equation": "Ctrl-E",
    "itemize": "Ctrl-I"
   },
   "labels_anchors": false,
   "latex_user_defs": false,
   "report_style_numbering": false,
   "user_envs_cfg": false
  }
 },
 "nbformat": 4,
 "nbformat_minor": 1
}
